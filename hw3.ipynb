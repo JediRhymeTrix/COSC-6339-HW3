{
 "cells": [
  {
   "cell_type": "code",
   "execution_count": 25,
   "metadata": {},
   "outputs": [],
   "source": [
    "# for data\n",
    "import json\n",
    "\n",
    "import pandas as pd\n",
    "import numpy as np\n",
    "\n",
    "# for plotting\n",
    "import matplotlib.pyplot as plt\n",
    "import seaborn as sns\n",
    "\n",
    "# for deep learning\n",
    "from tensorflow.keras.layers import Bidirectional, LSTM, Dense, Permute, multiply, Input\n",
    "from tensorflow.keras.layers import Embedding\n",
    "from tensorflow.keras.models import Model\n",
    "from tensorflow.keras.callbacks import EarlyStopping, ModelCheckpoint\n",
    "from tensorflow.keras.preprocessing.text import Tokenizer\n",
    "from tensorflow.keras.preprocessing.sequence import pad_sequences\n",
    "\n",
    "from sklearn.metrics import confusion_matrix, ConfusionMatrixDisplay\n",
    "\n",
    "# for bert language model\n",
    "# import transformers\n"
   ]
  },
  {
   "cell_type": "code",
   "execution_count": 2,
   "metadata": {},
   "outputs": [],
   "source": [
    "# GPU optimization stuff\n",
    "\n",
    "import tensorflow as tf\n",
    "\n",
    "physical_devices = tf.config.list_physical_devices('GPU')\n",
    "tf.config.experimental.set_memory_growth(physical_devices[0], enable=True)\n",
    "tf.compat.v1.disable_eager_execution()\n"
   ]
  },
  {
   "cell_type": "markdown",
   "metadata": {},
   "source": [
    "### Read prepared datasets"
   ]
  },
  {
   "cell_type": "code",
   "execution_count": 3,
   "metadata": {},
   "outputs": [],
   "source": [
    "DATA_PATH = 'data/'\n",
    "MODEL_PATH = 'models/'"
   ]
  },
  {
   "cell_type": "code",
   "execution_count": 4,
   "metadata": {},
   "outputs": [
    {
     "name": "stdout",
     "output_type": "stream",
     "text": [
      "                                                text  y\n",
      "0  make tea water taste amazing 0 calorie great w...  1\n",
      "1                                   delicious cheese  1\n",
      "2                                   love go like mad  1\n",
      "3      great candy bar wedding reception guest loved  1\n",
      "4                                            delious  1\n"
     ]
    }
   ],
   "source": [
    "# split dataset\n",
    "df_train = pd.read_csv(DATA_PATH + 'train.csv')\n",
    "df_test = pd.read_csv(DATA_PATH + 'test.csv')\n",
    "\n",
    "print(df_train.head())\n",
    "\n",
    "# get X\n",
    "X_train = df_train['text'].values\n",
    "X_test = df_test['text'].values\n",
    "\n",
    "# get target\n",
    "y_train = df_train[\"y\"].values\n",
    "y_test = df_test[\"y\"].values\n"
   ]
  },
  {
   "cell_type": "markdown",
   "metadata": {},
   "source": [
    "### Load prepared word embeddings"
   ]
  },
  {
   "cell_type": "code",
   "execution_count": 5,
   "metadata": {},
   "outputs": [],
   "source": [
    "emb = json.load(open(DATA_PATH + 'words_emb.json'))\n",
    "\n",
    "emb_matrix = np.array(list(emb.values()))\n",
    "words = list(emb.keys())\n",
    "\n",
    "MAX_LEN = 30\n",
    "\n",
    "embedding_layer = Embedding(input_dim=emb_matrix.shape[0], output_dim=emb_matrix.shape[1], weights=[\n",
    "                            emb_matrix], input_length=MAX_LEN, trainable=False)\n"
   ]
  },
  {
   "cell_type": "markdown",
   "metadata": {},
   "source": [
    "### Define Bi-directional LSTM model"
   ]
  },
  {
   "cell_type": "code",
   "execution_count": 6,
   "metadata": {},
   "outputs": [
    {
     "name": "stdout",
     "output_type": "stream",
     "text": [
      "WARNING:tensorflow:Layer lstm will not use cuDNN kernels since it doesn't meet the criteria. It will use a generic GPU kernel as fallback when running on GPU.\n",
      "WARNING:tensorflow:Layer lstm will not use cuDNN kernels since it doesn't meet the criteria. It will use a generic GPU kernel as fallback when running on GPU.\n",
      "WARNING:tensorflow:Layer lstm will not use cuDNN kernels since it doesn't meet the criteria. It will use a generic GPU kernel as fallback when running on GPU.\n",
      "WARNING:tensorflow:Layer lstm_1 will not use cuDNN kernels since it doesn't meet the criteria. It will use a generic GPU kernel as fallback when running on GPU.\n",
      "WARNING:tensorflow:Layer lstm_1 will not use cuDNN kernels since it doesn't meet the criteria. It will use a generic GPU kernel as fallback when running on GPU.\n",
      "WARNING:tensorflow:Layer lstm_1 will not use cuDNN kernels since it doesn't meet the criteria. It will use a generic GPU kernel as fallback when running on GPU.\n"
     ]
    }
   ],
   "source": [
    "# code attention layer\n",
    "def attention_layer(inputs, neurons):\n",
    "    X = Permute((2, 1))(inputs)\n",
    "    X = Dense(neurons, activation=\"softmax\")(X)\n",
    "    X = Permute((2, 1), name=\"attention\")(X)\n",
    "    X = multiply([inputs, X])\n",
    "\n",
    "    return X\n",
    "\n",
    "\n",
    "# model\n",
    "def bid_lstm(input_shape):\n",
    "    # input\n",
    "    X_indices = Input(input_shape)\n",
    "\n",
    "    # embedding\n",
    "    embeddings = embedding_layer(X_indices)\n",
    "\n",
    "    # apply attention\n",
    "    X = attention_layer(embeddings, neurons=MAX_LEN)\n",
    "\n",
    "    # 2 layers of bidirectional lstm\n",
    "    X = Bidirectional(LSTM(\n",
    "        units=MAX_LEN, dropout=0.2, return_sequences=True))(X)\n",
    "    X = Bidirectional(LSTM(units=MAX_LEN, dropout=0.2))(X)\n",
    "\n",
    "    # final dense layers\n",
    "    X = Dense(64, activation='relu')(X)\n",
    "    y_out = Dense(1, activation='sigmoid')(X)\n",
    "\n",
    "    # compile\n",
    "    model = Model(inputs=X_indices, outputs=y_out)\n",
    "    model.compile(loss='binary_crossentropy',\n",
    "                  optimizer='adam', metrics=['accuracy'])\n",
    "\n",
    "    return model\n",
    "\n",
    "\n",
    "model = bid_lstm((MAX_LEN,))"
   ]
  },
  {
   "cell_type": "code",
   "execution_count": 7,
   "metadata": {},
   "outputs": [
    {
     "name": "stdout",
     "output_type": "stream",
     "text": [
      "Model: \"model\"\n",
      "__________________________________________________________________________________________________\n",
      " Layer (type)                   Output Shape         Param #     Connected to                     \n",
      "==================================================================================================\n",
      " input_1 (InputLayer)           [(None, 30)]         0           []                               \n",
      "                                                                                                  \n",
      " embedding (Embedding)          (None, 30, 300)      12585300    ['input_1[0][0]']                \n",
      "                                                                                                  \n",
      " permute (Permute)              (None, 300, 30)      0           ['embedding[0][0]']              \n",
      "                                                                                                  \n",
      " dense (Dense)                  (None, 300, 30)      930         ['permute[0][0]']                \n",
      "                                                                                                  \n",
      " attention (Permute)            (None, 30, 300)      0           ['dense[0][0]']                  \n",
      "                                                                                                  \n",
      " multiply (Multiply)            (None, 30, 300)      0           ['embedding[0][0]',              \n",
      "                                                                  'attention[0][0]']              \n",
      "                                                                                                  \n",
      " bidirectional (Bidirectional)  (None, 30, 60)       79440       ['multiply[0][0]']               \n",
      "                                                                                                  \n",
      " bidirectional_1 (Bidirectional  (None, 60)          21840       ['bidirectional[0][0]']          \n",
      " )                                                                                                \n",
      "                                                                                                  \n",
      " dense_1 (Dense)                (None, 64)           3904        ['bidirectional_1[0][0]']        \n",
      "                                                                                                  \n",
      " dense_2 (Dense)                (None, 1)            65          ['dense_1[0][0]']                \n",
      "                                                                                                  \n",
      "==================================================================================================\n",
      "Total params: 12,691,479\n",
      "Trainable params: 106,179\n",
      "Non-trainable params: 12,585,300\n",
      "__________________________________________________________________________________________________\n"
     ]
    }
   ],
   "source": [
    "model.summary()"
   ]
  },
  {
   "cell_type": "markdown",
   "metadata": {},
   "source": [
    "### Training"
   ]
  },
  {
   "cell_type": "code",
   "execution_count": 8,
   "metadata": {},
   "outputs": [],
   "source": [
    "# tokenizing  sequences from training data\n",
    "tokenizer = Tokenizer()\n",
    "tokenizer.fit_on_texts(X_train)\n",
    "\n",
    "X_train_indices = tokenizer.texts_to_sequences(X_train)\n",
    "\n",
    "# padding sequences to uniform length\n",
    "X_train_indices = pad_sequences(X_train_indices, maxlen=MAX_LEN)\n"
   ]
  },
  {
   "cell_type": "code",
   "execution_count": 9,
   "metadata": {},
   "outputs": [
    {
     "data": {
      "image/png": "[encoded data removed]",
      "text/plain": [
       "<Figure size 432x288 with 1 Axes>"
      ]
     },
     "metadata": {
      "needs_background": "light"
     },
     "output_type": "display_data"
    }
   ],
   "source": [
    "# visualize feature matrix\n",
    "sns.heatmap(X_train_indices == 0, vmin=0, vmax=1, cbar=False)\n",
    "plt.show()\n"
   ]
  },
  {
   "cell_type": "code",
   "execution_count": 10,
   "metadata": {},
   "outputs": [],
   "source": [
    "# early stopping and model checkpoints\n",
    "\n",
    "early_stopping = EarlyStopping(monitor='val_loss', patience=5)\n",
    "bst_model_path = MODEL_PATH + 'bid_lstm.h5'\n",
    "\n",
    "model_checkpoint = ModelCheckpoint(bst_model_path, save_best_only=True, save_weights_only=True)\n"
   ]
  },
  {
   "cell_type": "code",
   "execution_count": 13,
   "metadata": {},
   "outputs": [
    {
     "name": "stdout",
     "output_type": "stream",
     "text": [
      "Train on 63852 samples, validate on 15964 samples\n",
      "Epoch 1/50\n",
      "63852/63852 [==============================] - ETA: 0s - loss: 0.2242 - accuracy: 0.9289"
     ]
    },
    {
     "name": "stderr",
     "output_type": "stream",
     "text": [
      "c:\\programdata\\anaconda3\\lib\\site-packages\\keras\\engine\\training_v1.py:2057: UserWarning: `Model.state_updates` will be removed in a future version. This property should not be used in TensorFlow 2.0, as `updates` are applied automatically.\n",
      "  updates = self.state_updates\n"
     ]
    },
    {
     "name": "stdout",
     "output_type": "stream",
     "text": [
      "63852/63852 [==============================] - 7s 109us/sample - loss: 0.2242 - accuracy: 0.9289 - val_loss: 0.2202 - val_accuracy: 0.9302\n",
      "Epoch 2/50\n",
      "63852/63852 [==============================] - 5s 86us/sample - loss: 0.2201 - accuracy: 0.9289 - val_loss: 0.2158 - val_accuracy: 0.9301\n",
      "Epoch 3/50\n",
      "63852/63852 [==============================] - 5s 85us/sample - loss: 0.2175 - accuracy: 0.9289 - val_loss: 0.2127 - val_accuracy: 0.9301\n",
      "Epoch 4/50\n",
      "63852/63852 [==============================] - 6s 89us/sample - loss: 0.2168 - accuracy: 0.9290 - val_loss: 0.2158 - val_accuracy: 0.9301\n",
      "Epoch 5/50\n",
      "63852/63852 [==============================] - 6s 94us/sample - loss: 0.2151 - accuracy: 0.9294 - val_loss: 0.2090 - val_accuracy: 0.9303\n",
      "Epoch 6/50\n",
      "63852/63852 [==============================] - 6s 90us/sample - loss: 0.2143 - accuracy: 0.9289 - val_loss: 0.2123 - val_accuracy: 0.9300\n",
      "Epoch 7/50\n",
      "63852/63852 [==============================] - 5s 85us/sample - loss: 0.2133 - accuracy: 0.9292 - val_loss: 0.2106 - val_accuracy: 0.9310\n",
      "Epoch 8/50\n",
      "63852/63852 [==============================] - 5s 86us/sample - loss: 0.2095 - accuracy: 0.9296 - val_loss: 0.2078 - val_accuracy: 0.9310\n",
      "Epoch 9/50\n",
      "63852/63852 [==============================] - 6s 87us/sample - loss: 0.2093 - accuracy: 0.9296 - val_loss: 0.2052 - val_accuracy: 0.9313\n",
      "Epoch 10/50\n",
      "63852/63852 [==============================] - 6s 93us/sample - loss: 0.2076 - accuracy: 0.9302 - val_loss: 0.2068 - val_accuracy: 0.9306\n",
      "Epoch 11/50\n",
      "63852/63852 [==============================] - 6s 89us/sample - loss: 0.2085 - accuracy: 0.9298 - val_loss: 0.2036 - val_accuracy: 0.9310\n",
      "Epoch 12/50\n",
      "63852/63852 [==============================] - 6s 90us/sample - loss: 0.2068 - accuracy: 0.9298 - val_loss: 0.2042 - val_accuracy: 0.9312\n",
      "Epoch 13/50\n",
      "63852/63852 [==============================] - 7s 108us/sample - loss: 0.2059 - accuracy: 0.9300 - val_loss: 0.2032 - val_accuracy: 0.9308\n",
      "Epoch 14/50\n",
      "63852/63852 [==============================] - 7s 104us/sample - loss: 0.2061 - accuracy: 0.9293 - val_loss: 0.2056 - val_accuracy: 0.9308\n",
      "Epoch 15/50\n",
      "63852/63852 [==============================] - 6s 100us/sample - loss: 0.2052 - accuracy: 0.9298 - val_loss: 0.2031 - val_accuracy: 0.9309\n",
      "Epoch 16/50\n",
      "63852/63852 [==============================] - 6s 93us/sample - loss: 0.2056 - accuracy: 0.9300 - val_loss: 0.2023 - val_accuracy: 0.9308\n",
      "Epoch 17/50\n",
      "63852/63852 [==============================] - 7s 105us/sample - loss: 0.2029 - accuracy: 0.9305 - val_loss: 0.2009 - val_accuracy: 0.9307\n",
      "Epoch 18/50\n",
      "63852/63852 [==============================] - 6s 94us/sample - loss: 0.2036 - accuracy: 0.9302 - val_loss: 0.2059 - val_accuracy: 0.9312\n",
      "Epoch 19/50\n",
      "63852/63852 [==============================] - 7s 104us/sample - loss: 0.2024 - accuracy: 0.9307 - val_loss: 0.2004 - val_accuracy: 0.9307\n",
      "Epoch 20/50\n",
      "63852/63852 [==============================] - 6s 101us/sample - loss: 0.2011 - accuracy: 0.9306 - val_loss: 0.2026 - val_accuracy: 0.9310\n",
      "Epoch 21/50\n",
      "63852/63852 [==============================] - 6s 99us/sample - loss: 0.2018 - accuracy: 0.9307 - val_loss: 0.1994 - val_accuracy: 0.9310\n",
      "Epoch 22/50\n",
      "63852/63852 [==============================] - 7s 104us/sample - loss: 0.1993 - accuracy: 0.9317 - val_loss: 0.2005 - val_accuracy: 0.9308\n",
      "Epoch 23/50\n",
      "63852/63852 [==============================] - 7s 106us/sample - loss: 0.1977 - accuracy: 0.9316 - val_loss: 0.1997 - val_accuracy: 0.9304\n",
      "Epoch 24/50\n",
      "63852/63852 [==============================] - 5s 83us/sample - loss: 0.1978 - accuracy: 0.9319 - val_loss: 0.1999 - val_accuracy: 0.9311\n"
     ]
    }
   ],
   "source": [
    "# training\n",
    "\n",
    "hist = model.fit(X_train_indices, y_train, validation_split=0.2,\n",
    "                 batch_size=2048, epochs=50, callbacks=[early_stopping, model_checkpoint])\n"
   ]
  },
  {
   "cell_type": "markdown",
   "metadata": {},
   "source": [
    "### Evaluation"
   ]
  },
  {
   "cell_type": "code",
   "execution_count": 14,
   "metadata": {},
   "outputs": [],
   "source": [
    "# preparing sequences from test data\n",
    "tokenizer = Tokenizer()\n",
    "tokenizer.fit_on_texts(X_test)\n",
    "\n",
    "X_test_indices = tokenizer.texts_to_sequences(X_test)\n",
    "\n",
    "# padding sequences to uniform length\n",
    "X_test_indices = pad_sequences(X_test_indices, maxlen=MAX_LEN)\n"
   ]
  },
  {
   "cell_type": "code",
   "execution_count": 38,
   "metadata": {},
   "outputs": [
    {
     "name": "stdout",
     "output_type": "stream",
     "text": [
      "best val score: 0.19940009917405815\n",
      "Accuracy: 92.53%\n"
     ]
    }
   ],
   "source": [
    "# loading model\n",
    "model.load_weights(bst_model_path)\n",
    "bst_val_score = min(hist.history['val_loss'])\n",
    "\n",
    "print('best val score: {}'.format(bst_val_score))\n",
    "\n",
    "# evaluate\n",
    "scores = model.evaluate(X_test_indices, y_test)\n",
    "\n",
    "print('Accuracy: %.2f%%' % (scores[1]*100))"
   ]
  },
  {
   "cell_type": "code",
   "execution_count": 41,
   "metadata": {},
   "outputs": [],
   "source": [
    "# test\n",
    "predictions = model.predict(X_test_indices)\n",
    "predictions = list(map(lambda x: 1 if x > 0.5 else 0, predictions))\n"
   ]
  },
  {
   "cell_type": "code",
   "execution_count": 42,
   "metadata": {},
   "outputs": [
    {
     "name": "stdout",
     "output_type": "stream",
     "text": [
      "[[    9  1408]\n",
      " [   83 18453]]\n"
     ]
    },
    {
     "data": {
      "text/plain": [
       "<sklearn.metrics._plot.confusion_matrix.ConfusionMatrixDisplay at 0x24a6b3ddfd0>"
      ]
     },
     "execution_count": 42,
     "metadata": {},
     "output_type": "execute_result"
    },
    {
     "data": {
      "image/png": "[encoded data removed]",
      "text/plain": [
       "<Figure size 432x288 with 2 Axes>"
      ]
     },
     "metadata": {
      "needs_background": "light"
     },
     "output_type": "display_data"
    }
   ],
   "source": [
    "# confusion matrix\n",
    "conf_matrix = confusion_matrix(y_test, predictions)\n",
    "print(conf_matrix)\n",
    "\n",
    "ConfusionMatrixDisplay(conf_matrix).plot()\n"
   ]
  }
 ],
 "metadata": {
  "interpreter": {
   "hash": "e04390b745d7540077d5afc7ea9b350ff3db0922faee759c3145cf85f5ee4c0c"
  },
  "kernelspec": {
   "display_name": "Python 3.9.7 ('base')",
   "language": "python",
   "name": "python3"
  },
  "language_info": {
   "codemirror_mode": {
    "name": "ipython",
    "version": 3
   },
   "file_extension": ".py",
   "mimetype": "text/x-python",
   "name": "python",
   "nbconvert_exporter": "python",
   "pygments_lexer": "ipython3",
   "version": "3.9.7"
  },
  "orig_nbformat": 4
 },
 "nbformat": 4,
 "nbformat_minor": 2
}
