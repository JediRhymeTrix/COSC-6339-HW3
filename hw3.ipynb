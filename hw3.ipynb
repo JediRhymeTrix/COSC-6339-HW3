{
 "cells": [
  {
   "cell_type": "code",
   "execution_count": 2,
   "metadata": {},
   "outputs": [],
   "source": [
    "# for data\n",
    "import json\n",
    "\n",
    "import pandas as pd\n",
    "import numpy as np\n",
    "\n",
    "# for plotting\n",
    "import matplotlib.pyplot as plt\n",
    "import seaborn as sns\n",
    "\n",
    "# for deep learning\n",
    "from tensorflow.keras.layers import Bidirectional, LSTM, Dense, Permute, multiply, Input\n",
    "from tensorflow.keras.layers import Embedding\n",
    "from tensorflow.keras.models import Model\n",
    "from tensorflow.keras.callbacks import EarlyStopping, ModelCheckpoint\n",
    "from tensorflow.keras.preprocessing.text import Tokenizer\n",
    "from tensorflow.keras.preprocessing.sequence import pad_sequences\n",
    "\n",
    "from sklearn.metrics import confusion_matrix, ConfusionMatrixDisplay\n",
    "\n",
    "# for bert language model\n",
    "import transformers\n"
   ]
  },
  {
   "cell_type": "code",
   "execution_count": 3,
   "metadata": {},
   "outputs": [],
   "source": [
    "# GPU optimization stuff\n",
    "\n",
    "import tensorflow as tf\n",
    "\n",
    "physical_devices = tf.config.list_physical_devices('GPU')\n",
    "tf.config.experimental.set_memory_growth(physical_devices[0], enable=True)\n",
    "tf.compat.v1.disable_eager_execution()\n"
   ]
  },
  {
   "cell_type": "code",
   "execution_count": 4,
   "metadata": {},
   "outputs": [],
   "source": [
    "# constants\n",
    "\n",
    "DATA_PATH = 'data/'\n",
    "MODEL_PATH = 'models/'"
   ]
  },
  {
   "cell_type": "markdown",
   "metadata": {},
   "source": [
    "### Read prepared datasets"
   ]
  },
  {
   "cell_type": "code",
   "execution_count": 4,
   "metadata": {},
   "outputs": [
    {
     "name": "stdout",
     "output_type": "stream",
     "text": [
      "                                                text  y\n",
      "0  make tea water taste amazing 0 calorie great w...  1\n",
      "1                                   delicious cheese  1\n",
      "2                                   love go like mad  1\n",
      "3      great candy bar wedding reception guest loved  1\n",
      "4                                            delious  1\n"
     ]
    }
   ],
   "source": [
    "# split dataset\n",
    "df_train = pd.read_csv(DATA_PATH + 'train.csv')\n",
    "df_test = pd.read_csv(DATA_PATH + 'test.csv')\n",
    "\n",
    "print(df_train.head())\n",
    "\n",
    "# get X\n",
    "X_train = df_train['text'].values\n",
    "X_test = df_test['text'].values\n",
    "\n",
    "# get target\n",
    "y_train = df_train[\"y\"].values\n",
    "y_test = df_test[\"y\"].values\n"
   ]
  },
  {
   "cell_type": "markdown",
   "metadata": {},
   "source": [
    "### Load prepared word embeddings"
   ]
  },
  {
   "cell_type": "code",
   "execution_count": 5,
   "metadata": {},
   "outputs": [],
   "source": [
    "emb = json.load(open(DATA_PATH + 'words_emb.json'))\n",
    "\n",
    "emb_matrix = np.array(list(emb.values()))\n",
    "words = list(emb.keys())\n",
    "\n",
    "MAX_LEN = 30\n",
    "\n",
    "embedding_layer = Embedding(input_dim=emb_matrix.shape[0], output_dim=emb_matrix.shape[1], weights=[\n",
    "                            emb_matrix], input_length=MAX_LEN, trainable=False)\n"
   ]
  },
  {
   "cell_type": "markdown",
   "metadata": {},
   "source": [
    "### Define Bi-directional LSTM model"
   ]
  },
  {
   "cell_type": "code",
   "execution_count": 6,
   "metadata": {},
   "outputs": [
    {
     "name": "stdout",
     "output_type": "stream",
     "text": [
      "WARNING:tensorflow:Layer lstm will not use cuDNN kernels since it doesn't meet the criteria. It will use a generic GPU kernel as fallback when running on GPU.\n",
      "WARNING:tensorflow:Layer lstm will not use cuDNN kernels since it doesn't meet the criteria. It will use a generic GPU kernel as fallback when running on GPU.\n",
      "WARNING:tensorflow:Layer lstm will not use cuDNN kernels since it doesn't meet the criteria. It will use a generic GPU kernel as fallback when running on GPU.\n",
      "WARNING:tensorflow:Layer lstm_1 will not use cuDNN kernels since it doesn't meet the criteria. It will use a generic GPU kernel as fallback when running on GPU.\n",
      "WARNING:tensorflow:Layer lstm_1 will not use cuDNN kernels since it doesn't meet the criteria. It will use a generic GPU kernel as fallback when running on GPU.\n",
      "WARNING:tensorflow:Layer lstm_1 will not use cuDNN kernels since it doesn't meet the criteria. It will use a generic GPU kernel as fallback when running on GPU.\n"
     ]
    }
   ],
   "source": [
    "# code attention layer\n",
    "def attention_layer(inputs, neurons):\n",
    "    X = Permute((2, 1))(inputs)\n",
    "    X = Dense(neurons, activation=\"softmax\")(X)\n",
    "    X = Permute((2, 1), name=\"attention\")(X)\n",
    "    X = multiply([inputs, X])\n",
    "\n",
    "    return X\n",
    "\n",
    "\n",
    "# model\n",
    "def bid_lstm(input_shape):\n",
    "    # input\n",
    "    X_indices = Input(input_shape)\n",
    "\n",
    "    # embedding\n",
    "    embeddings = embedding_layer(X_indices)\n",
    "\n",
    "    # apply attention\n",
    "    X = attention_layer(embeddings, neurons=MAX_LEN)\n",
    "\n",
    "    # 2 layers of bidirectional lstm\n",
    "    X = Bidirectional(LSTM(\n",
    "        units=MAX_LEN, dropout=0.2, return_sequences=True))(X)\n",
    "    X = Bidirectional(LSTM(units=MAX_LEN, dropout=0.2))(X)\n",
    "\n",
    "    # final dense layers\n",
    "    X = Dense(64, activation='relu')(X)\n",
    "    y_out = Dense(1, activation='sigmoid')(X)\n",
    "\n",
    "    # compile\n",
    "    model = Model(inputs=X_indices, outputs=y_out)\n",
    "    model.compile(loss='binary_crossentropy',\n",
    "                  optimizer='adam', metrics=['accuracy'])\n",
    "\n",
    "    return model\n",
    "\n",
    "\n",
    "model = bid_lstm((MAX_LEN,))"
   ]
  },
  {
   "cell_type": "code",
   "execution_count": 7,
   "metadata": {},
   "outputs": [
    {
     "name": "stdout",
     "output_type": "stream",
     "text": [
      "Model: \"model\"\n",
      "__________________________________________________________________________________________________\n",
      " Layer (type)                   Output Shape         Param #     Connected to                     \n",
      "==================================================================================================\n",
      " input_1 (InputLayer)           [(None, 30)]         0           []                               \n",
      "                                                                                                  \n",
      " embedding (Embedding)          (None, 30, 300)      12585300    ['input_1[0][0]']                \n",
      "                                                                                                  \n",
      " permute (Permute)              (None, 300, 30)      0           ['embedding[0][0]']              \n",
      "                                                                                                  \n",
      " dense (Dense)                  (None, 300, 30)      930         ['permute[0][0]']                \n",
      "                                                                                                  \n",
      " attention (Permute)            (None, 30, 300)      0           ['dense[0][0]']                  \n",
      "                                                                                                  \n",
      " multiply (Multiply)            (None, 30, 300)      0           ['embedding[0][0]',              \n",
      "                                                                  'attention[0][0]']              \n",
      "                                                                                                  \n",
      " bidirectional (Bidirectional)  (None, 30, 60)       79440       ['multiply[0][0]']               \n",
      "                                                                                                  \n",
      " bidirectional_1 (Bidirectional  (None, 60)          21840       ['bidirectional[0][0]']          \n",
      " )                                                                                                \n",
      "                                                                                                  \n",
      " dense_1 (Dense)                (None, 64)           3904        ['bidirectional_1[0][0]']        \n",
      "                                                                                                  \n",
      " dense_2 (Dense)                (None, 1)            65          ['dense_1[0][0]']                \n",
      "                                                                                                  \n",
      "==================================================================================================\n",
      "Total params: 12,691,479\n",
      "Trainable params: 106,179\n",
      "Non-trainable params: 12,585,300\n",
      "__________________________________________________________________________________________________\n"
     ]
    }
   ],
   "source": [
    "model.summary()"
   ]
  },
  {
   "cell_type": "markdown",
   "metadata": {},
   "source": [
    "### Training"
   ]
  },
  {
   "cell_type": "code",
   "execution_count": 8,
   "metadata": {},
   "outputs": [],
   "source": [
    "# tokenizing  sequences from training data\n",
    "tokenizer = Tokenizer()\n",
    "tokenizer.fit_on_texts(X_train)\n",
    "\n",
    "X_train_indices = tokenizer.texts_to_sequences(X_train)\n",
    "\n",
    "# padding sequences to uniform length\n",
    "X_train_indices = pad_sequences(X_train_indices, maxlen=MAX_LEN)\n"
   ]
  },
  {
   "cell_type": "code",
   "execution_count": 9,
   "metadata": {},
   "outputs": [
    {
     "data": {
      "image/png": "[encoded data removed]",
      "text/plain": [
       "<Figure size 432x288 with 1 Axes>"
      ]
     },
     "metadata": {
      "needs_background": "light"
     },
     "output_type": "display_data"
    }
   ],
   "source": [
    "# visualize feature matrix\n",
    "sns.heatmap(X_train_indices == 0, vmin=0, vmax=1, cbar=False)\n",
    "plt.show()\n"
   ]
  },
  {
   "cell_type": "code",
   "execution_count": 10,
   "metadata": {},
   "outputs": [],
   "source": [
    "# early stopping and model checkpoints\n",
    "\n",
    "early_stopping = EarlyStopping(monitor='val_loss', patience=5)\n",
    "bst_model_path = MODEL_PATH + 'bid_lstm_weights.h5'\n",
    "\n",
    "model_checkpoint = ModelCheckpoint(bst_model_path, save_best_only=True, save_weights_only=True)\n"
   ]
  },
  {
   "cell_type": "code",
   "execution_count": 13,
   "metadata": {},
   "outputs": [
    {
     "name": "stdout",
     "output_type": "stream",
     "text": [
      "Train on 63852 samples, validate on 15964 samples\n",
      "Epoch 1/50\n",
      "63852/63852 [==============================] - ETA: 0s - loss: 0.2242 - accuracy: 0.9289"
     ]
    },
    {
     "name": "stderr",
     "output_type": "stream",
     "text": [
      "c:\\programdata\\anaconda3\\lib\\site-packages\\keras\\engine\\training_v1.py:2057: UserWarning: `Model.state_updates` will be removed in a future version. This property should not be used in TensorFlow 2.0, as `updates` are applied automatically.\n",
      "  updates = self.state_updates\n"
     ]
    },
    {
     "name": "stdout",
     "output_type": "stream",
     "text": [
      "63852/63852 [==============================] - 7s 109us/sample - loss: 0.2242 - accuracy: 0.9289 - val_loss: 0.2202 - val_accuracy: 0.9302\n",
      "Epoch 2/50\n",
      "63852/63852 [==============================] - 5s 86us/sample - loss: 0.2201 - accuracy: 0.9289 - val_loss: 0.2158 - val_accuracy: 0.9301\n",
      "Epoch 3/50\n",
      "63852/63852 [==============================] - 5s 85us/sample - loss: 0.2175 - accuracy: 0.9289 - val_loss: 0.2127 - val_accuracy: 0.9301\n",
      "Epoch 4/50\n",
      "63852/63852 [==============================] - 6s 89us/sample - loss: 0.2168 - accuracy: 0.9290 - val_loss: 0.2158 - val_accuracy: 0.9301\n",
      "Epoch 5/50\n",
      "63852/63852 [==============================] - 6s 94us/sample - loss: 0.2151 - accuracy: 0.9294 - val_loss: 0.2090 - val_accuracy: 0.9303\n",
      "Epoch 6/50\n",
      "63852/63852 [==============================] - 6s 90us/sample - loss: 0.2143 - accuracy: 0.9289 - val_loss: 0.2123 - val_accuracy: 0.9300\n",
      "Epoch 7/50\n",
      "63852/63852 [==============================] - 5s 85us/sample - loss: 0.2133 - accuracy: 0.9292 - val_loss: 0.2106 - val_accuracy: 0.9310\n",
      "Epoch 8/50\n",
      "63852/63852 [==============================] - 5s 86us/sample - loss: 0.2095 - accuracy: 0.9296 - val_loss: 0.2078 - val_accuracy: 0.9310\n",
      "Epoch 9/50\n",
      "63852/63852 [==============================] - 6s 87us/sample - loss: 0.2093 - accuracy: 0.9296 - val_loss: 0.2052 - val_accuracy: 0.9313\n",
      "Epoch 10/50\n",
      "63852/63852 [==============================] - 6s 93us/sample - loss: 0.2076 - accuracy: 0.9302 - val_loss: 0.2068 - val_accuracy: 0.9306\n",
      "Epoch 11/50\n",
      "63852/63852 [==============================] - 6s 89us/sample - loss: 0.2085 - accuracy: 0.9298 - val_loss: 0.2036 - val_accuracy: 0.9310\n",
      "Epoch 12/50\n",
      "63852/63852 [==============================] - 6s 90us/sample - loss: 0.2068 - accuracy: 0.9298 - val_loss: 0.2042 - val_accuracy: 0.9312\n",
      "Epoch 13/50\n",
      "63852/63852 [==============================] - 7s 108us/sample - loss: 0.2059 - accuracy: 0.9300 - val_loss: 0.2032 - val_accuracy: 0.9308\n",
      "Epoch 14/50\n",
      "63852/63852 [==============================] - 7s 104us/sample - loss: 0.2061 - accuracy: 0.9293 - val_loss: 0.2056 - val_accuracy: 0.9308\n",
      "Epoch 15/50\n",
      "63852/63852 [==============================] - 6s 100us/sample - loss: 0.2052 - accuracy: 0.9298 - val_loss: 0.2031 - val_accuracy: 0.9309\n",
      "Epoch 16/50\n",
      "63852/63852 [==============================] - 6s 93us/sample - loss: 0.2056 - accuracy: 0.9300 - val_loss: 0.2023 - val_accuracy: 0.9308\n",
      "Epoch 17/50\n",
      "63852/63852 [==============================] - 7s 105us/sample - loss: 0.2029 - accuracy: 0.9305 - val_loss: 0.2009 - val_accuracy: 0.9307\n",
      "Epoch 18/50\n",
      "63852/63852 [==============================] - 6s 94us/sample - loss: 0.2036 - accuracy: 0.9302 - val_loss: 0.2059 - val_accuracy: 0.9312\n",
      "Epoch 19/50\n",
      "63852/63852 [==============================] - 7s 104us/sample - loss: 0.2024 - accuracy: 0.9307 - val_loss: 0.2004 - val_accuracy: 0.9307\n",
      "Epoch 20/50\n",
      "63852/63852 [==============================] - 6s 101us/sample - loss: 0.2011 - accuracy: 0.9306 - val_loss: 0.2026 - val_accuracy: 0.9310\n",
      "Epoch 21/50\n",
      "63852/63852 [==============================] - 6s 99us/sample - loss: 0.2018 - accuracy: 0.9307 - val_loss: 0.1994 - val_accuracy: 0.9310\n",
      "Epoch 22/50\n",
      "63852/63852 [==============================] - 7s 104us/sample - loss: 0.1993 - accuracy: 0.9317 - val_loss: 0.2005 - val_accuracy: 0.9308\n",
      "Epoch 23/50\n",
      "63852/63852 [==============================] - 7s 106us/sample - loss: 0.1977 - accuracy: 0.9316 - val_loss: 0.1997 - val_accuracy: 0.9304\n",
      "Epoch 24/50\n",
      "63852/63852 [==============================] - 5s 83us/sample - loss: 0.1978 - accuracy: 0.9319 - val_loss: 0.1999 - val_accuracy: 0.9311\n"
     ]
    }
   ],
   "source": [
    "# training\n",
    "\n",
    "hist = model.fit(X_train_indices, y_train, validation_split=0.2,\n",
    "                 batch_size=2048, epochs=50, callbacks=[early_stopping, model_checkpoint])\n"
   ]
  },
  {
   "cell_type": "markdown",
   "metadata": {},
   "source": [
    "### Evaluation"
   ]
  },
  {
   "cell_type": "code",
   "execution_count": 14,
   "metadata": {},
   "outputs": [],
   "source": [
    "# preparing sequences from test data\n",
    "tokenizer = Tokenizer()\n",
    "tokenizer.fit_on_texts(X_test)\n",
    "\n",
    "X_test_indices = tokenizer.texts_to_sequences(X_test)\n",
    "\n",
    "# padding sequences to uniform length\n",
    "X_test_indices = pad_sequences(X_test_indices, maxlen=MAX_LEN)\n"
   ]
  },
  {
   "cell_type": "code",
   "execution_count": 38,
   "metadata": {},
   "outputs": [
    {
     "name": "stdout",
     "output_type": "stream",
     "text": [
      "best val score: 0.19940009917405815\n",
      "Accuracy: 92.53%\n"
     ]
    }
   ],
   "source": [
    "# loading model\n",
    "model.load_weights(bst_model_path)\n",
    "bst_val_score = min(hist.history['val_loss'])\n",
    "\n",
    "print('best val score: {}'.format(bst_val_score))\n",
    "\n",
    "# evaluate\n",
    "scores = model.evaluate(X_test_indices, y_test)\n",
    "\n",
    "print('Accuracy: %.2f%%' % (scores[1]*100))"
   ]
  },
  {
   "cell_type": "code",
   "execution_count": 41,
   "metadata": {},
   "outputs": [],
   "source": [
    "# test\n",
    "predictions = model.predict(X_test_indices)\n",
    "predictions = list(map(lambda x: 1 if x > 0.5 else 0, predictions))\n"
   ]
  },
  {
   "cell_type": "code",
   "execution_count": 42,
   "metadata": {},
   "outputs": [
    {
     "name": "stdout",
     "output_type": "stream",
     "text": [
      "[[    9  1408]\n",
      " [   83 18453]]\n"
     ]
    },
    {
     "data": {
      "text/plain": [
       "<sklearn.metrics._plot.confusion_matrix.ConfusionMatrixDisplay at 0x24a6b3ddfd0>"
      ]
     },
     "execution_count": 42,
     "metadata": {},
     "output_type": "execute_result"
    },
    {
     "data": {
      "image/png": "[encoded data removed]",
      "text/plain": [
       "<Figure size 432x288 with 2 Axes>"
      ]
     },
     "metadata": {
      "needs_background": "light"
     },
     "output_type": "display_data"
    }
   ],
   "source": [
    "# confusion matrix\n",
    "conf_matrix = confusion_matrix(y_test, predictions)\n",
    "print(conf_matrix)\n",
    "\n",
    "ConfusionMatrixDisplay(conf_matrix).plot()\n"
   ]
  },
  {
   "cell_type": "markdown",
   "metadata": {},
   "source": [
    "###"
   ]
  },
  {
   "cell_type": "markdown",
   "metadata": {},
   "source": [
    "### Transfer-learning with BERT (no pre-processing of text)"
   ]
  },
  {
   "cell_type": "code",
   "execution_count": 5,
   "metadata": {},
   "outputs": [],
   "source": [
    "import re\n",
    "\n",
    "from tensorflow.keras import layers, models, optimizers\n",
    "from sklearn import model_selection\n"
   ]
  },
  {
   "cell_type": "code",
   "execution_count": 6,
   "metadata": {},
   "outputs": [
    {
     "name": "stderr",
     "output_type": "stream",
     "text": [
      "c:\\programdata\\anaconda3\\lib\\site-packages\\IPython\\core\\interactiveshell.py:3444: FutureWarning: The error_bad_lines argument has been deprecated and will be removed in a future version.\n",
      "\n",
      "\n",
      "  exec(code_obj, self.user_global_ns, self.user_ns)\n",
      "b'Skipping line 1925: expected 15 fields, saw 22\\nSkipping line 1977: expected 15 fields, saw 22\\nSkipping line 35265: expected 15 fields, saw 22\\nSkipping line 53357: expected 15 fields, saw 22\\n'\n",
      "b'Skipping line 68361: expected 15 fields, saw 22\\nSkipping line 70922: expected 15 fields, saw 22\\nSkipping line 73503: expected 15 fields, saw 22\\nSkipping line 85612: expected 15 fields, saw 22\\n'\n"
     ]
    },
    {
     "data": {
      "text/plain": [
       "<bound method NDFrame.head of       marketplace  customer_id       review_id  product_id  product_parent  \\\n",
       "0              US     42521656  R26MV8D0KG6QI6  B000SAQCWC       159713740   \n",
       "1              US     12049833  R1OF8GP57AQ1A0  B00509LVIQ       138680402   \n",
       "2              US       107642  R3VDC1QB6MC4ZZ  B00KHXESLC       252021703   \n",
       "3              US      6042304  R12FA3DCF8F9ER  B000F8JIIC       752728342   \n",
       "4              US     18123821   RTWHVNV6X4CNJ  B004ZWR9RQ       552138758   \n",
       "...           ...          ...             ...         ...             ...   \n",
       "98635          US     27635275  R1PHJCOXJ43DD5  B00V3W9SMU       217641189   \n",
       "98636          US      1369561   R2ESP8RM8ERG4  B00FY2UESM       243349133   \n",
       "98637          US     49479456  R1VRW0RFCHM8F4  B001L9MQK6       626575660   \n",
       "98638          US      9965703  R1ZKNAAKDNX73G  B00OX6FIMW       403680832   \n",
       "98639          US     11372488  R1L2GI2QOIBQJU  B00IN4HABM       974652159   \n",
       "\n",
       "                                           product_title product_category  \\\n",
       "0      The Cravings Place Chocolate Chunk Cookie Mix,...          Grocery   \n",
       "1                Mauna Loa Macadamias, 11 Ounce Packages          Grocery   \n",
       "2      Organic Matcha Green Tea Powder - 100% Pure Ma...          Grocery   \n",
       "3      15oz Raspberry Lyons Designer Dessert Syrup Sauce          Grocery   \n",
       "4      Stride Spark Kinetic Fruit Sugar Free Gum, 14-...          Grocery   \n",
       "...                                                  ...              ...   \n",
       "98635           Two Pound Assorted Roasted Nuts Gift Tin          Grocery   \n",
       "98636  Award Winning Gourmet Beer Brittle - An IPA Be...          Grocery   \n",
       "98637  Rokz Design Group Infused Margarita Salt, Lime...          Grocery   \n",
       "98638  Jus By Julie 5 Day Blended Juice Cleanse + Mea...          Grocery   \n",
       "98639  Konpeito [Primrose \"Sakura Sou\"] (50g) [Kyoto ...          Grocery   \n",
       "\n",
       "       star_rating  helpful_votes  total_votes vine verified_purchase  \\\n",
       "0                5              0            0    N                 Y   \n",
       "1                5              0            0    N                 Y   \n",
       "2                5              0            0    N                 N   \n",
       "3                5              0            0    N                 Y   \n",
       "4                5              0            0    N                 Y   \n",
       "...            ...            ...          ...  ...               ...   \n",
       "98635            5              0            0    N                 Y   \n",
       "98636            5              0            0    N                 N   \n",
       "98637            5              0            0    N                 Y   \n",
       "98638            1              0            1    N                 Y   \n",
       "98639            5              0            0    N                 Y   \n",
       "\n",
       "                          review_headline  \\\n",
       "0      Using these for years - love them.   \n",
       "1                               Wonderful   \n",
       "2                              Five Stars   \n",
       "3                              Five Stars   \n",
       "4                              Five Stars   \n",
       "...                                   ...   \n",
       "98635                          Five Stars   \n",
       "98636                  Best brittle ever!   \n",
       "98637                          Five Stars   \n",
       "98638                            One Star   \n",
       "98639                          Five Stars   \n",
       "\n",
       "                                             review_body review_date  \n",
       "0      As a family allergic to wheat, dairy, eggs, nu...  2015-08-31  \n",
       "1      My favorite nut.  Creamy, crunchy, salty, and ...  2015-08-31  \n",
       "2      This green tea tastes so good! My girlfriend l...  2015-08-31  \n",
       "3      I love Melissa's brand but this is a great sec...  2015-08-31  \n",
       "4                                                   good  2015-08-31  \n",
       "...                                                  ...         ...  \n",
       "98635          This was a gift. Exactly what I expected.  2015-07-28  \n",
       "98636  This is absolutely the most savory brittle I h...  2015-07-28  \n",
       "98637                              Exactly what I wanted  2015-07-28  \n",
       "98638                                      Not impressed  2015-07-28  \n",
       "98639                                             Yummy.  2015-07-28  \n",
       "\n",
       "[98640 rows x 15 columns]>"
      ]
     },
     "execution_count": 6,
     "metadata": {},
     "output_type": "execute_result"
    }
   ],
   "source": [
    "# read tsv into dataframe\n",
    "dtf = pd.read_csv(DATA_PATH + 'amazon_reviews_grocery_100k.tsv', sep='\\t', error_bad_lines=False)\n",
    "\n",
    "dtf.head\n"
   ]
  },
  {
   "cell_type": "code",
   "execution_count": 7,
   "metadata": {},
   "outputs": [
    {
     "data": {
      "text/plain": [
       "<bound method NDFrame.head of                                              review_body  star_rating\n",
       "0      As a family allergic to wheat, dairy, eggs, nu...            5\n",
       "1      My favorite nut.  Creamy, crunchy, salty, and ...            5\n",
       "2      This green tea tastes so good! My girlfriend l...            5\n",
       "3      I love Melissa's brand but this is a great sec...            5\n",
       "4                                                   good            5\n",
       "...                                                  ...          ...\n",
       "98635          This was a gift. Exactly what I expected.            5\n",
       "98636  This is absolutely the most savory brittle I h...            5\n",
       "98637                              Exactly what I wanted            5\n",
       "98638                                      Not impressed            1\n",
       "98639                                             Yummy.            5\n",
       "\n",
       "[98640 rows x 2 columns]>"
      ]
     },
     "execution_count": 7,
     "metadata": {},
     "output_type": "execute_result"
    }
   ],
   "source": [
    "# filter columns\n",
    "dtf = dtf[['review_body', 'star_rating']]\n",
    "\n",
    "dtf.head\n"
   ]
  },
  {
   "cell_type": "code",
   "execution_count": 8,
   "metadata": {},
   "outputs": [
    {
     "data": {
      "text/plain": [
       "<bound method NDFrame.head of                                                     text  y\n",
       "0      As a family allergic to wheat, dairy, eggs, nu...  5\n",
       "1      My favorite nut.  Creamy, crunchy, salty, and ...  5\n",
       "2      This green tea tastes so good! My girlfriend l...  5\n",
       "3      I love Melissa's brand but this is a great sec...  5\n",
       "4                                                   good  5\n",
       "...                                                  ... ..\n",
       "98635          This was a gift. Exactly what I expected.  5\n",
       "98636  This is absolutely the most savory brittle I h...  5\n",
       "98637                              Exactly what I wanted  5\n",
       "98638                                      Not impressed  1\n",
       "98639                                             Yummy.  5\n",
       "\n",
       "[98640 rows x 2 columns]>"
      ]
     },
     "execution_count": 8,
     "metadata": {},
     "output_type": "execute_result"
    }
   ],
   "source": [
    "# rename columns\n",
    "dtf = dtf.rename(columns={'review_body': 'text', 'star_rating': 'y'})\n",
    "\n",
    "dtf.head\n"
   ]
  },
  {
   "cell_type": "code",
   "execution_count": 9,
   "metadata": {},
   "outputs": [
    {
     "data": {
      "text/html": [
       "<div>\n",
       "<style scoped>\n",
       "    .dataframe tbody tr th:only-of-type {\n",
       "        vertical-align: middle;\n",
       "    }\n",
       "\n",
       "    .dataframe tbody tr th {\n",
       "        vertical-align: top;\n",
       "    }\n",
       "\n",
       "    .dataframe thead th {\n",
       "        text-align: right;\n",
       "    }\n",
       "</style>\n",
       "<table border=\"1\" class=\"dataframe\">\n",
       "  <thead>\n",
       "    <tr style=\"text-align: right;\">\n",
       "      <th></th>\n",
       "      <th>text</th>\n",
       "      <th>y</th>\n",
       "    </tr>\n",
       "  </thead>\n",
       "  <tbody>\n",
       "    <tr>\n",
       "      <th>88231</th>\n",
       "      <td>Good product</td>\n",
       "      <td>1</td>\n",
       "    </tr>\n",
       "    <tr>\n",
       "      <th>41761</th>\n",
       "      <td>Good price and aside from the packing job prod...</td>\n",
       "      <td>1</td>\n",
       "    </tr>\n",
       "    <tr>\n",
       "      <th>39231</th>\n",
       "      <td>Very pleased with the salt. Excellent.</td>\n",
       "      <td>1</td>\n",
       "    </tr>\n",
       "    <tr>\n",
       "      <th>25603</th>\n",
       "      <td>Not a quality gourmet popcorn. Full of kernels...</td>\n",
       "      <td>0</td>\n",
       "    </tr>\n",
       "    <tr>\n",
       "      <th>23265</th>\n",
       "      <td>Excellent - wish I could find it locally.</td>\n",
       "      <td>1</td>\n",
       "    </tr>\n",
       "  </tbody>\n",
       "</table>\n",
       "</div>"
      ],
      "text/plain": [
       "                                                    text  y\n",
       "88231                                       Good product  1\n",
       "41761  Good price and aside from the packing job prod...  1\n",
       "39231             Very pleased with the salt. Excellent.  1\n",
       "25603  Not a quality gourmet popcorn. Full of kernels...  0\n",
       "23265          Excellent - wish I could find it locally.  1"
      ]
     },
     "execution_count": 9,
     "metadata": {},
     "output_type": "execute_result"
    }
   ],
   "source": [
    "# map rating to class (<=1 = 0 | <1 = 1)\n",
    "\n",
    "dtf['y'] = dtf['y'].map(lambda x: 0 if int(x) <= 1 else 1)\n",
    "\n",
    "# print 5 random rows\n",
    "dtf.sample(5)\n"
   ]
  },
  {
   "cell_type": "code",
   "execution_count": 10,
   "metadata": {},
   "outputs": [],
   "source": [
    "# split dataset\n",
    "dtf_train, dtf_test = model_selection.train_test_split(dtf, test_size=0.2)\n",
    "\n",
    "# get target\n",
    "y1_train = dtf_train[\"y\"].values\n",
    "y1_test = dtf_test[\"y\"].values"
   ]
  },
  {
   "cell_type": "code",
   "execution_count": 11,
   "metadata": {},
   "outputs": [],
   "source": [
    "# distil-bert tokenizer\n",
    "tokenizer = transformers.AutoTokenizer.from_pretrained(\n",
    "    'distilbert-base-uncased', do_lower_case=True)\n"
   ]
  },
  {
   "cell_type": "code",
   "execution_count": 12,
   "metadata": {},
   "outputs": [],
   "source": [
    "def prepare_feature_matrix(corpus, maxlen=50):\n",
    "    # add special tokens\n",
    "    maxqnans = int((maxlen-20)/2)\n",
    "    corpus_tokenized = [\"[CLS] \" +\n",
    "                        \" \".join(tokenizer.tokenize(re.sub(r'[^\\w\\s]+|\\n', '',\n",
    "                                                    str(txt).lower().strip()))[:maxqnans]) +\n",
    "                        \" [SEP] \" for txt in corpus]\n",
    "\n",
    "    # generate masks\n",
    "    masks = [[1]*len(txt.split(\" \")) + [0]*(maxlen - len(\n",
    "        txt.split(\" \"))) for txt in corpus_tokenized]\n",
    "\n",
    "    # padding\n",
    "    txt2seq = [txt + \" [PAD]\"*(maxlen-len(txt.split(\" \"))) if len(txt.split(\" \"))\n",
    "               != maxlen else txt for txt in corpus_tokenized]\n",
    "\n",
    "    # generate idx\n",
    "    idx = [tokenizer.encode(seq)[:50] for seq in txt2seq]\n",
    "\n",
    "    # generate segments\n",
    "    segments = []\n",
    "    for seq in txt2seq:\n",
    "        temp, i = [], 0\n",
    "        for token in seq.split(\" \"):\n",
    "            temp.append(i)\n",
    "            if token == \"[SEP]\":\n",
    "                i += 1\n",
    "        segments.append(temp)\n",
    "\n",
    "    # feature matrix\n",
    "    return [np.asarray(idx, dtype='object'),\n",
    "            np.asarray(masks, dtype='int32'),\n",
    "            np.asarray(segments, dtype='int32')]\n"
   ]
  },
  {
   "cell_type": "code",
   "execution_count": 13,
   "metadata": {},
   "outputs": [],
   "source": [
    "def print_sample(corpus, X):\n",
    "    i = 0\n",
    "\n",
    "    print(\"txt: \", corpus.iloc[0])\n",
    "    print(\"tokenized:\", [tokenizer.convert_ids_to_tokens(idx)\n",
    "        for idx in X[0][i].tolist()])\n",
    "    print(\"idx: \", X[0][i])\n",
    "    print(\"mask: \", X[1][i])\n",
    "    print(\"segment: \", X[2][i])\n"
   ]
  },
  {
   "cell_type": "code",
   "execution_count": 14,
   "metadata": {},
   "outputs": [
    {
     "name": "stderr",
     "output_type": "stream",
     "text": [
      "Token indices sequence length is longer than the specified maximum sequence length for this model (2457 > 512). Running this sequence through the model will result in indexing errors\n"
     ]
    },
    {
     "name": "stdout",
     "output_type": "stream",
     "text": [
      "txt:  LOVE THIS FORMULA ! but switched my daughter to lactose free because its better for her(:\n",
      "tokenized: ['[CLS]', '[CLS]', 'love', 'this', 'formula', 'but', 'switched', 'my', 'daughter', 'to', 'lac', '#', '#', 'to', '##se', 'free', 'because', 'its', 'better', 'for', '[SEP]', '[PAD]', '[PAD]', '[PAD]', '[PAD]', '[PAD]', '[PAD]', '[PAD]', '[PAD]', '[PAD]', '[PAD]', '[PAD]', '[PAD]', '[PAD]', '[PAD]', '[PAD]', '[PAD]', '[PAD]', '[PAD]', '[PAD]', '[PAD]', '[PAD]', '[PAD]', '[PAD]', '[PAD]', '[PAD]', '[PAD]', '[PAD]', '[PAD]', '[PAD]']\n",
      "idx:  [101 101 2293 2023 5675 2021 7237 2026 2684 2000 18749 1001 1001 2000 3366\n",
      " 2489 2138 2049 2488 2005 102 0 0 0 0 0 0 0 0 0 0 0 0 0 0 0 0 0 0 0 0 0 0\n",
      " 0 0 0 0 0 0 0]\n",
      "mask:  [1 1 1 1 1 1 1 1 1 1 1 1 1 1 1 1 1 1 0 0 0 0 0 0 0 0 0 0 0 0 0 0 0 0 0 0 0\n",
      " 0 0 0 0 0 0 0 0 0 0 0 0 0]\n",
      "segment:  [0 0 0 0 0 0 0 0 0 0 0 0 0 0 0 0 0 1 1 1 1 1 1 1 1 1 1 1 1 1 1 1 1 1 1 1 1\n",
      " 1 1 1 1 1 1 1 1 1 1 1 1 1]\n"
     ]
    }
   ],
   "source": [
    "X1_train = prepare_feature_matrix(dtf_train['text'])\n",
    "X1_test = prepare_feature_matrix(dtf_test['text'])\n",
    "\n",
    "print_sample(dtf_train['text'], X1_train)"
   ]
  },
  {
   "cell_type": "code",
   "execution_count": 15,
   "metadata": {},
   "outputs": [
    {
     "name": "stderr",
     "output_type": "stream",
     "text": [
      "Some layers from the model checkpoint at distilbert-base-uncased were not used when initializing TFDistilBertModel: ['vocab_projector', 'activation_13', 'vocab_layer_norm', 'vocab_transform']\n",
      "- This IS expected if you are initializing TFDistilBertModel from the checkpoint of a model trained on another task or with another architecture (e.g. initializing a BertForSequenceClassification model from a BertForPreTraining model).\n",
      "- This IS NOT expected if you are initializing TFDistilBertModel from the checkpoint of a model that you expect to be exactly identical (initializing a BertForSequenceClassification model from a BertForSequenceClassification model).\n",
      "All the layers of TFDistilBertModel were initialized from the model checkpoint at distilbert-base-uncased.\n",
      "If your task is similar to the task the model of the checkpoint was trained on, you can already use TFDistilBertModel for predictions without further training.\n"
     ]
    },
    {
     "name": "stdout",
     "output_type": "stream",
     "text": [
      "Model: \"model\"\n",
      "__________________________________________________________________________________________________\n",
      " Layer (type)                   Output Shape         Param #     Connected to                     \n",
      "==================================================================================================\n",
      " input_idx (InputLayer)         [(None, 50)]         0           []                               \n",
      "                                                                                                  \n",
      " input_masks (InputLayer)       [(None, 50)]         0           []                               \n",
      "                                                                                                  \n",
      " tf_distil_bert_model (TFDistil  TFBaseModelOutput(l  66362880   ['input_idx[0][0]',              \n",
      " BertModel)                     ast_hidden_state=(N               'input_masks[0][0]']            \n",
      "                                one, 50, 768),                                                    \n",
      "                                 hidden_states=None                                               \n",
      "                                , attentions=None)                                                \n",
      "                                                                                                  \n",
      " global_average_pooling1d (Glob  (None, 768)         0           ['tf_distil_bert_model[0][0]']   \n",
      " alAveragePooling1D)                                                                              \n",
      "                                                                                                  \n",
      " dense (Dense)                  (None, 64)           49216       ['global_average_pooling1d[0][0]'\n",
      "                                                                 ]                                \n",
      "                                                                                                  \n",
      " dense_1 (Dense)                (None, 1)            65          ['dense[0][0]']                  \n",
      "                                                                                                  \n",
      "==================================================================================================\n",
      "Total params: 66,412,161\n",
      "Trainable params: 49,281\n",
      "Non-trainable params: 66,362,880\n",
      "__________________________________________________________________________________________________\n"
     ]
    }
   ],
   "source": [
    "# building the model\n",
    "\n",
    "# inputs\n",
    "idx = layers.Input((50), dtype=\"int32\", name=\"input_idx\")\n",
    "masks = layers.Input((50), dtype=\"int32\", name=\"input_masks\")\n",
    "\n",
    "# pre-trained bert with config\n",
    "config = transformers.DistilBertConfig(dropout=0.2, attention_dropout=0.2)\n",
    "config.output_hidden_states = False\n",
    "nlp = transformers.TFDistilBertModel.from_pretrained(\n",
    "    'distilbert-base-uncased', config=config)\n",
    "bert_out = nlp(idx, attention_mask=masks)[0]\n",
    "\n",
    "# fine-tuning\n",
    "x = layers.GlobalAveragePooling1D()(bert_out)\n",
    "x = layers.Dense(64, activation=\"relu\")(x)\n",
    "y_out = layers.Dense(1, activation='sigmoid')(x)\n",
    "\n",
    "# compile\n",
    "model1 = models.Model([idx, masks], y_out)\n",
    "for layer in model1.layers[:3]:\n",
    "    layer.trainable = False\n",
    "model1.compile(loss='binary_crossentropy', optimizer='adam', metrics=['accuracy'])\n",
    "model1.summary()\n"
   ]
  },
  {
   "cell_type": "code",
   "execution_count": 16,
   "metadata": {},
   "outputs": [],
   "source": [
    "# encode y\n",
    "dic_y_mapping = {n: label for n, label in enumerate(np.unique(y1_train))}\n",
    "inverse_dic = {v: k for k, v in dic_y_mapping.items()}\n",
    "y1_train = np.array([inverse_dic[y] for y in y1_train])\n"
   ]
  },
  {
   "cell_type": "code",
   "execution_count": 15,
   "metadata": {},
   "outputs": [
    {
     "name": "stdout",
     "output_type": "stream",
     "text": [
      "Train on 63129 samples, validate on 15783 samples\n",
      "Epoch 1/10\n",
      "63104/63129 [============================>.] - ETA: 0s - loss: 0.2399 - accuracy: 0.9286"
     ]
    },
    {
     "name": "stderr",
     "output_type": "stream",
     "text": [
      "c:\\programdata\\anaconda3\\lib\\site-packages\\keras\\engine\\training_v1.py:2057: UserWarning: `Model.state_updates` will be removed in a future version. This property should not be used in TensorFlow 2.0, as `updates` are applied automatically.\n",
      "  updates = self.state_updates\n"
     ]
    },
    {
     "name": "stdout",
     "output_type": "stream",
     "text": [
      "63129/63129 [==============================] - 73s 1ms/sample - loss: 0.2399 - accuracy: 0.9286 - val_loss: 0.2286 - val_accuracy: 0.9271\n",
      "Epoch 2/10\n",
      "63129/63129 [==============================] - 73s 1ms/sample - loss: 0.2189 - accuracy: 0.9294 - val_loss: 0.2345 - val_accuracy: 0.9245\n",
      "Epoch 3/10\n",
      "63129/63129 [==============================] - 75s 1ms/sample - loss: 0.2136 - accuracy: 0.9295 - val_loss: 0.2156 - val_accuracy: 0.9266\n",
      "Epoch 4/10\n",
      "63129/63129 [==============================] - 74s 1ms/sample - loss: 0.2086 - accuracy: 0.9295 - val_loss: 0.2355 - val_accuracy: 0.9221\n",
      "Epoch 5/10\n",
      "63129/63129 [==============================] - 74s 1ms/sample - loss: 0.2074 - accuracy: 0.9302 - val_loss: 0.2058 - val_accuracy: 0.9273\n",
      "Epoch 6/10\n",
      "63129/63129 [==============================] - 74s 1ms/sample - loss: 0.2052 - accuracy: 0.9298 - val_loss: 0.2282 - val_accuracy: 0.9274\n",
      "Epoch 7/10\n",
      "63129/63129 [==============================] - 78s 1ms/sample - loss: 0.2045 - accuracy: 0.9303 - val_loss: 0.2042 - val_accuracy: 0.9270\n",
      "Epoch 8/10\n",
      "63129/63129 [==============================] - 78s 1ms/sample - loss: 0.2028 - accuracy: 0.9300 - val_loss: 0.2185 - val_accuracy: 0.9251\n",
      "Epoch 9/10\n",
      "63129/63129 [==============================] - 75s 1ms/sample - loss: 0.2012 - accuracy: 0.9313 - val_loss: 0.2037 - val_accuracy: 0.9278\n",
      "Epoch 10/10\n",
      "63129/63129 [==============================] - 78s 1ms/sample - loss: 0.2009 - accuracy: 0.9310 - val_loss: 0.2031 - val_accuracy: 0.9278\n"
     ]
    }
   ],
   "source": [
    "# train\n",
    "training = model1.fit(x=X1_train, y=y1_train, batch_size=64,\n",
    "                      epochs=10, shuffle=True, verbose=1, validation_split=0.2)\n",
    "\n",
    "model1 = model1.save(MODEL_PATH + 'distil_bert.h5')\n"
   ]
  },
  {
   "cell_type": "code",
   "execution_count": 16,
   "metadata": {},
   "outputs": [
    {
     "name": "stdout",
     "output_type": "stream",
     "text": [
      "WARNING:tensorflow:Error in loading the saved optimizer state. As a result, your model is starting with a freshly initialized optimizer.\n",
      "Model: \"model\"\n",
      "__________________________________________________________________________________________________\n",
      " Layer (type)                   Output Shape         Param #     Connected to                     \n",
      "==================================================================================================\n",
      " input_idx (InputLayer)         [(None, 50)]         0           []                               \n",
      "                                                                                                  \n",
      " input_masks (InputLayer)       [(None, 50)]         0           []                               \n",
      "                                                                                                  \n",
      " tf_distil_bert_model_1 (TFDist  TFBaseModelOutput(l  66362880   ['input_idx[0][0]',              \n",
      " ilBertModel)                   ast_hidden_state=(N               'input_masks[0][0]']            \n",
      "                                one, 50, 768),                                                    \n",
      "                                 hidden_states=None                                               \n",
      "                                , attentions=None)                                                \n",
      "                                                                                                  \n",
      " global_average_pooling1d (Glob  (None, 768)         0           ['tf_distil_bert_model_1[0][0]'] \n",
      " alAveragePooling1D)                                                                              \n",
      "                                                                                                  \n",
      " dense (Dense)                  (None, 64)           49216       ['global_average_pooling1d[0][0]'\n",
      "                                                                 ]                                \n",
      "                                                                                                  \n",
      " dense_1 (Dense)                (None, 1)            65          ['dense[0][0]']                  \n",
      "                                                                                                  \n",
      "==================================================================================================\n",
      "Total params: 66,412,161\n",
      "Trainable params: 66,412,161\n",
      "Non-trainable params: 0\n",
      "__________________________________________________________________________________________________\n",
      "Train on 63129 samples, validate on 15783 samples\n",
      "Epoch 1/5\n",
      "63129/63129 [==============================] - ETA: 0s - loss: 0.1990 - accuracy: 0.9307"
     ]
    },
    {
     "name": "stderr",
     "output_type": "stream",
     "text": [
      "c:\\programdata\\anaconda3\\lib\\site-packages\\keras\\engine\\training_v1.py:2057: UserWarning: `Model.state_updates` will be removed in a future version. This property should not be used in TensorFlow 2.0, as `updates` are applied automatically.\n",
      "  updates = self.state_updates\n"
     ]
    },
    {
     "name": "stdout",
     "output_type": "stream",
     "text": [
      "63129/63129 [==============================] - 179s 3ms/sample - loss: 0.1990 - accuracy: 0.9307 - val_loss: 0.1757 - val_accuracy: 0.9354\n",
      "Epoch 2/5\n",
      "63129/63129 [==============================] - 179s 3ms/sample - loss: 0.1605 - accuracy: 0.9391 - val_loss: 0.1681 - val_accuracy: 0.9389\n",
      "Epoch 3/5\n",
      "63129/63129 [==============================] - 180s 3ms/sample - loss: 0.1464 - accuracy: 0.9436 - val_loss: 0.1637 - val_accuracy: 0.9404\n",
      "Epoch 4/5\n",
      "63129/63129 [==============================] - 180s 3ms/sample - loss: 0.1340 - accuracy: 0.9473 - val_loss: 0.1674 - val_accuracy: 0.9383\n",
      "Epoch 5/5\n",
      "63129/63129 [==============================] - 180s 3ms/sample - loss: 0.1248 - accuracy: 0.9511 - val_loss: 0.1759 - val_accuracy: 0.9410\n"
     ]
    }
   ],
   "source": [
    "# load model\n",
    "model1 = models.load_model(MODEL_PATH + 'distil_bert.h5', custom_objects={\n",
    "                           'TFDistilBertModel': transformers.TFDistilBertModel})\n",
    "\n",
    "# unfreeze and fine-tune\n",
    "for layer in model1.layers[:3]:\n",
    "    layer.trainable = True\n",
    "model1.compile(loss='binary_crossentropy',\n",
    "               optimizer=optimizers.Adam(learning_rate=1e-5), metrics=['accuracy'])\n",
    "model1.summary()\n",
    "\n",
    "fine_tuning = model1.fit(x=X1_train, y=y1_train, batch_size=64,\n",
    "                         epochs=5, shuffle=True, verbose=1, validation_split=0.2)\n",
    "\n",
    "# save model\n",
    "model1.save(MODEL_PATH + 'distil_bert.h5')\n"
   ]
  },
  {
   "cell_type": "code",
   "execution_count": 17,
   "metadata": {},
   "outputs": [
    {
     "name": "stderr",
     "output_type": "stream",
     "text": [
      "c:\\programdata\\anaconda3\\lib\\site-packages\\keras\\engine\\training_v1.py:2057: UserWarning: `Model.state_updates` will be removed in a future version. This property should not be used in TensorFlow 2.0, as `updates` are applied automatically.\n",
      "  updates = self.state_updates\n"
     ]
    },
    {
     "name": "stdout",
     "output_type": "stream",
     "text": [
      "Accuracy: 94.69%\n"
     ]
    },
    {
     "name": "stderr",
     "output_type": "stream",
     "text": [
      "c:\\programdata\\anaconda3\\lib\\site-packages\\keras\\engine\\training_v1.py:2079: UserWarning: `Model.state_updates` will be removed in a future version. This property should not be used in TensorFlow 2.0, as `updates` are applied automatically.\n",
      "  updates=self.state_updates,\n"
     ]
    }
   ],
   "source": [
    "# load model\n",
    "model1 = models.load_model(MODEL_PATH + 'distil_bert.h5', custom_objects={\n",
    "                           'TFDistilBertModel': transformers.TFDistilBertModel})\n",
    "\n",
    "# evaluate\n",
    "scores = model1.evaluate(X1_test, y1_test)\n",
    "\n",
    "print('Accuracy: %.2f%%' % (scores[1]*100))\n",
    "\n",
    "# test\n",
    "predicted = model1.predict(X1_test)\n",
    "predicted = list(map(lambda x: 1 if x > 0.5 else 0, predicted))\n"
   ]
  },
  {
   "cell_type": "code",
   "execution_count": 19,
   "metadata": {},
   "outputs": [
    {
     "name": "stdout",
     "output_type": "stream",
     "text": [
      "[[  480   904]\n",
      " [  144 18200]]\n"
     ]
    },
    {
     "data": {
      "text/plain": [
       "<sklearn.metrics._plot.confusion_matrix.ConfusionMatrixDisplay at 0x20d6a318d30>"
      ]
     },
     "execution_count": 19,
     "metadata": {},
     "output_type": "execute_result"
    },
    {
     "data": {
      "image/png": "[encoded data removed]",
      "text/plain": [
       "<Figure size 432x288 with 2 Axes>"
      ]
     },
     "metadata": {
      "needs_background": "light"
     },
     "output_type": "display_data"
    }
   ],
   "source": [
    "# confusion matrix\n",
    "conf_matrix = confusion_matrix(y1_test, predicted)\n",
    "print(conf_matrix)\n",
    "\n",
    "ConfusionMatrixDisplay(conf_matrix).plot()\n"
   ]
  }
 ],
 "metadata": {
  "interpreter": {
   "hash": "e04390b745d7540077d5afc7ea9b350ff3db0922faee759c3145cf85f5ee4c0c"
  },
  "kernelspec": {
   "display_name": "Python 3.9.7 ('base')",
   "language": "python",
   "name": "python3"
  },
  "language_info": {
   "codemirror_mode": {
    "name": "ipython",
    "version": 3
   },
   "file_extension": ".py",
   "mimetype": "text/x-python",
   "name": "python",
   "nbconvert_exporter": "python",
   "pygments_lexer": "ipython3",
   "version": "3.9.7"
  },
  "orig_nbformat": 4
 },
 "nbformat": 4,
 "nbformat_minor": 2
}
